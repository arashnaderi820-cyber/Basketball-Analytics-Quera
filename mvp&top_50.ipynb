{
 "cells": [
  {
   "cell_type": "code",
   "execution_count": 1,
   "id": "abfeead8",
   "metadata": {},
   "outputs": [],
   "source": [
    "import pandas as pd\n",
    "import numpy as np\n",
    "import matplotlib.pyplot as plt\n",
    "import seaborn as sns\n",
    "import mysql.connector\n",
    "from mysql.connector import errorcode\n",
    "from urllib.parse import quote_plus\n",
    "from sqlalchemy import create_engine"
   ]
  },
  {
   "cell_type": "code",
   "execution_count": 2,
   "id": "6b81b7e0",
   "metadata": {},
   "outputs": [],
   "source": [
    "config = {\n",
    "    'host': 'localhost',\n",
    "    'user': 'root',\n",
    "    'password': 'Physic955',\n",
    "    'database': 'Basketball_Reference'\n",
    "}\n",
    "\n",
    "password = quote_plus(\"Physic955\")\n",
    "engine = create_engine(\n",
    "    f\"mysql+mysqlconnector://{config['user']}:{password}@{config['host']}/{config['database']}\"\n",
    ")"
   ]
  },
  {
   "cell_type": "code",
   "execution_count": 3,
   "id": "5a88cc29",
   "metadata": {},
   "outputs": [
    {
     "name": "stdout",
     "output_type": "stream",
     "text": [
      "                       Name  Height   Season\n",
      "0     Giannis Antetokounmpo     211  2019-20\n",
      "1              Nikola Jokić     211  2019-20\n",
      "2             Anthony Davis     208  2019-20\n",
      "3              LeBron James     206  2019-20\n",
      "4             Pascal Siakam     203  2019-20\n",
      "..                      ...     ...      ...\n",
      "56             Jayson Tatum     203  2023-24\n",
      "57              Luka Dončić     198  2023-24\n",
      "58  Shai Gilgeous-Alexander     198  2023-24\n",
      "59          Anthony Edwards     193  2023-24\n",
      "60            Jalen Brunson     188  2023-24\n",
      "\n",
      "[61 rows x 3 columns]\n"
     ]
    }
   ],
   "source": [
    "query_mvp = \"\"\"\n",
    "    SELECT p.Name, p.Height, s.Season\n",
    "    FROM michael_jordan_trophy mjt\n",
    "    JOIN players p ON mjt.PlayerID = p.PlayerID\n",
    "    JOIN seasons s ON mjt.SeasonID = s.SeasonID\n",
    "    WHERE s.Season IN ('2019-20','2020-21','2021-22','2022-23','2023-24')\n",
    "    ORDER BY s.Season, p.Height DESC;\n",
    "\"\"\"\n",
    "df_mvp_players = pd.read_sql(query_mvp, engine)\n",
    "print(df_mvp_players)"
   ]
  },
  {
   "cell_type": "code",
   "execution_count": 4,
   "id": "66f499e9",
   "metadata": {},
   "outputs": [
    {
     "name": "stdout",
     "output_type": "stream",
     "text": [
      "                      Name  Height   Season  Rank\n",
      "0             James Harden     196  2019-20     1\n",
      "1           Damian Lillard     188  2019-20     2\n",
      "2             Devin Booker     198  2019-20     3\n",
      "3    Giannis Antetokounmpo     211  2019-20     4\n",
      "4               Trae Young     185  2019-20     5\n",
      "..                     ...     ...      ...   ...\n",
      "295           Desmond Bane     196  2024-25    46\n",
      "296            Evan Mobley     211  2024-25    47\n",
      "297          Norman Powell     190  2024-25    48\n",
      "298          Miles Bridges     201  2024-25    49\n",
      "299          Julius Randle     206  2024-25    50\n",
      "\n",
      "[300 rows x 4 columns]\n"
     ]
    },
    {
     "name": "stderr",
     "output_type": "stream",
     "text": [
      "C:\\Users\\Asus\\AppData\\Local\\Temp\\ipykernel_23620\\1090559510.py:10: UserWarning: pandas only supports SQLAlchemy connectable (engine/connection) or database string URI or sqlite3 DBAPI2 connection. Other DBAPI2 objects are not tested. Please consider using SQLAlchemy.\n",
      "  df_top50_height = pd.read_sql(query, cnxn)\n"
     ]
    }
   ],
   "source": [
    "with mysql.connector.connect(**config) as cnxn:\n",
    "        query = \"\"\"\n",
    "            SELECT p.Name, p.Height, s.Season, pr.Rank\n",
    "            FROM player_ranks pr\n",
    "            JOIN players p ON pr.PlayerID = p.PlayerID\n",
    "            JOIN seasons s ON pr.SeasonID = s.SeasonID\n",
    "            WHERE s.Season >= '2019-20' AND pr.Rank <= 50\n",
    "            ORDER BY s.Season, pr.Rank;\n",
    "        \"\"\"\n",
    "        df_top50_height = pd.read_sql(query, cnxn)\n",
    "print(df_top50_height)"
   ]
  },
  {
   "cell_type": "code",
   "execution_count": 5,
   "id": "16f016ab",
   "metadata": {},
   "outputs": [
    {
     "name": "stdout",
     "output_type": "stream",
     "text": [
      "NaN in MVP Players Height: []\n",
      "NaN in Top 50 Players Height: []\n"
     ]
    }
   ],
   "source": [
    "Nan_mvp = df_mvp_players[df_mvp_players['Height'].isna()]['Name'].tolist()\n",
    "print(\"NaN in MVP Players Height:\", Nan_mvp)\n",
    "\n",
    "Nan_top50 = df_top50_height[df_top50_height['Height'].isna()]['Name'].tolist()\n",
    "print(\"NaN in Top 50 Players Height:\", Nan_top50)"
   ]
  },
  {
   "cell_type": "code",
   "execution_count": 6,
   "id": "ada0e251",
   "metadata": {},
   "outputs": [
    {
     "name": "stdout",
     "output_type": "stream",
     "text": [
      "mvp_list describe: \n",
      "\n",
      "\n",
      "count     61.000000\n",
      "mean     200.295082\n",
      "std        9.374334\n",
      "min      183.000000\n",
      "25%      193.000000\n",
      "50%      201.000000\n",
      "75%      211.000000\n",
      "max      216.000000\n",
      "Name: Height, dtype: float64\n",
      "\n",
      "\n",
      "\n",
      "\n",
      "top_50th describe: \n",
      "\n",
      "\n",
      "count    300.000000\n",
      "mean     198.483333\n",
      "std        8.321491\n",
      "min      183.000000\n",
      "25%      193.000000\n",
      "50%      198.000000\n",
      "75%      206.000000\n",
      "max      221.000000\n",
      "Name: Height, dtype: float64\n"
     ]
    }
   ],
   "source": [
    "print('mvp_list describe: ')\n",
    "mvp_stats = df_mvp_players['Height'].describe()\n",
    "print('\\n')\n",
    "print(mvp_stats)\n",
    "print('\\n')\n",
    "print('\\n')\n",
    "print('top_50th describe: ')\n",
    "print('\\n')\n",
    "top50_stats = df_top50_height['Height'].describe()\n",
    "print(top50_stats)\n"
   ]
  },
  {
   "cell_type": "code",
   "execution_count": 7,
   "id": "226b01a5",
   "metadata": {},
   "outputs": [
    {
     "data": {
      "image/png": "[encoded data removed]",
      "text/plain": [
       "<Figure size 800x400 with 2 Axes>"
      ]
     },
     "metadata": {},
     "output_type": "display_data"
    },
    {
     "name": "stderr",
     "output_type": "stream",
     "text": [
      "C:\\Users\\Asus\\AppData\\Local\\Temp\\ipykernel_23620\\3950867788.py:28: FutureWarning: \n",
      "\n",
      "Passing `palette` without assigning `hue` is deprecated and will be removed in v0.14.0. Assign the `x` variable to `hue` and set `legend=False` for the same effect.\n",
      "\n",
      "  sns.boxplot(data=df_height, x='Group', y='Height', palette=['skyblue', 'salmon'], width=0.5)\n"
     ]
    },
    {
     "data": {
      "image/png": "[encoded data removed]",
      "text/plain": [
       "<Figure size 400x400 with 1 Axes>"
      ]
     },
     "metadata": {},
     "output_type": "display_data"
    }
   ],
   "source": [
    "import pandas as pd\n",
    "import matplotlib.pyplot as plt\n",
    "import seaborn as sns\n",
    "\n",
    "\n",
    "fig, axes = plt.subplots(1, 2, figsize=(8, 4), sharey=True)\n",
    "sns.histplot(df_mvp_players['Height'], bins=10, color='skyblue', ax=axes[0], kde=False, edgecolor='black')\n",
    "axes[0].set_title('MVP Players Height', fontsize=10)\n",
    "axes[0].set_xlabel('Height (cm)')\n",
    "axes[0].set_ylabel('Count')\n",
    "\n",
    "sns.histplot(df_top50_height['Height'], bins=20, color='salmon', ax=axes[1], kde=False, edgecolor='black')\n",
    "axes[1].set_title('Top 50 Players Height', fontsize=10)\n",
    "axes[1].set_xlabel('Height (cm)')\n",
    "axes[1].set_ylabel('')\n",
    "\n",
    "fig.suptitle('Height Distribution Comparison', fontsize=12)\n",
    "plt.tight_layout()\n",
    "plt.savefig('height_histogram.png')\n",
    "plt.show()\n",
    "\n",
    "\n",
    "plt.figure(figsize=(4, 4))\n",
    "df_height = pd.DataFrame({\n",
    "    'Height': list(df_mvp_players['Height']) + list(df_top50_height['Height']),\n",
    "    'Group': ['MVP Players'] * len(df_mvp_players) + ['Top 50 Players'] * len(df_top50_height)\n",
    "})\n",
    "sns.boxplot(data=df_height, x='Group', y='Height', palette=['skyblue', 'salmon'], width=0.5)\n",
    "plt.title('Height Comparison: MVP vs Top 50', fontsize=10)\n",
    "plt.ylabel('Height (cm)')\n",
    "plt.xlabel('')\n",
    "plt.grid(False)\n",
    "plt.tight_layout()\n",
    "plt.savefig('height_boxplot.png')\n",
    "plt.show()"
   ]
  },
  {
   "cell_type": "markdown",
   "id": "124b9ca7",
   "metadata": {},
   "source": [
    "<div style=\"font-family:Tahoma, sans-serif; direction:rtl; line-height:1.8; font-size:17px; text-align:justify; padding:12px; border:1px solid #ddd; border-radius:8px; box-sizing:border-box; max-width:100%; margin:0 auto;\">\n",
    "  <p style=\"font-weight:bold; color:#0066cc; margin-top:0;\">\n",
    "    میانگین قد\n",
    "  </p>\n",
    "  <p>\n",
    "    بازیکن‌های MVP (top voters) به‌طور میانگین قد بلندتری دارن (حدود 200.30 سانتی‌متر) نسبت به ۵۰ بازیکن برتر (حدود 198.48 سانتی‌متر).\n",
    "    این اختلاف حدود 1.82 سانتی‌متر از هیستوگرام‌ها و باکس‌پلات قابل مشاهده است، که اوج فرکانس قد در MVPها حدود 201-211 سانتی‌متر و\n",
    "    در ۵۰ بازیکن برتر حدود 198-206 سانتی‌متر قرار داره.\n",
    "    این نشون می‌ده قد بلندتر می‌تونه معیاری برای برجستگی تو نقش MVP باشه.\n",
    "  </p>\n",
    "</div>\n",
    "\n",
    "<div style=\"font-family:Tahoma, sans-serif; direction:rtl; line-height:1.8; font-size:17px; text-align:justify; padding:12px; border:1px solid #ddd; border-radius:8px; box-sizing:border-box; max-width:100%; margin:0 auto; margin-top:15px;\">\n",
    "  <p style=\"font-weight:bold; color:#0066cc; margin-top:0;\">\n",
    "    تنوع\n",
    "  </p>\n",
    "  <p>\n",
    "    هر دو گروه تنوع مشابهی تو توزیع قد دارن، اما MVPها به سمت قدهای بلندتر متمایلن.\n",
    "    تو باکس‌پلات، ربع بالایی (۷۵٪) قدهای MVPها تا 211 سانتی‌متر کشیده شده،\n",
    "    در حالی که تو ۵۰ بازیکن برتر این مقدار تا 206 سانتی‌متره.\n",
    "    هیستوگرام هم این رو تأیید می‌کنه، چون دم بلندتر (tail) تو سمت چپ (قدهای کوتاه‌تر) تو هر دو گروه کمه، \n",
    "    ولی تو MVPها دم سمت راست (قدهای بلندتر) پررنگ‌تره.\n",
    "  </p>\n",
    "</div>\n",
    "\n",
    "<div style=\"font-family:Tahoma, sans-serif; direction:rtl; line-height:1.8; font-size:17px; text-align:justify; padding:12px; border:1px solid #ddd; border-radius:8px; box-sizing:border-box; max-width:100%; margin:0 auto; margin-top:15px;\">\n",
    "  <p style=\"font-weight:bold; color:#0066cc; margin-top:0;\">\n",
    "    تأثیر\n",
    "  </p>\n",
    "  <p>\n",
    "    این تحلیل نشون می‌ده قد توی موفقیت برای کسب جایزه MVP (impact کلی) نقش مهم‌تری نسبت به رتبه‌بندی صرف یا امتیازدهی (PTS) داره. \n",
    "    با توجه به اینکه ۵۰ بازیکن برتر بر اساس رتبه انتخاب شدن، ولی MVPها اغلب قد بلندتری دارن، \n",
    "    می‌تونیم نتیجه بگیریم که قد به‌عنوان یه مزیت فیزیکی، \n",
    "    تو تأثیرگذاری کلی بازیکن (مثل دفاع، ریباند، یا حضور در زمین) نقش کلیدی داره \n",
    "    و ممکنه تو انتخاب MVP توسط رأی‌دهندگان تأثیر بیشتری داشته باشه.\n",
    "  </p>\n",
    "</div>"
   ]
  }
 ],
 "metadata": {
  "kernelspec": {
   "display_name": "Python 3",
   "language": "python",
   "name": "python3"
  },
  "language_info": {
   "codemirror_mode": {
    "name": "ipython",
    "version": 3
   },
   "file_extension": ".py",
   "mimetype": "text/x-python",
   "name": "python",
   "nbconvert_exporter": "python",
   "pygments_lexer": "ipython3",
   "version": "3.11.9"
  }
 },
 "nbformat": 4,
 "nbformat_minor": 5
}
