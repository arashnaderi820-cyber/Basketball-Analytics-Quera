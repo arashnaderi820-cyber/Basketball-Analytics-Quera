{
 "cells": [
  {
   "cell_type": "code",
   "execution_count": 2,
   "id": "b24730e4",
   "metadata": {},
   "outputs": [],
   "source": [
    "import pandas as pd\n",
    "import numpy as np\n",
    "import matplotlib.pyplot as plt\n",
    "import seaborn as sns\n",
    "from scipy import stats\n",
    "import mysql.connector\n",
    "from mysql.connector import errorcode\n",
    "from urllib.parse import quote_plus\n",
    "from sqlalchemy import create_engine"
   ]
  },
  {
   "cell_type": "code",
   "execution_count": 3,
   "id": "85d278e6",
   "metadata": {},
   "outputs": [],
   "source": [
    "config = {\n",
    "    'host': 'localhost',\n",
    "    'user': 'root',\n",
    "    'password': 'Physic955',\n",
    "    'database': 'Basketball_Reference'\n",
    "}\n",
    "\n",
    "password = quote_plus(\"Physic955\")\n",
    "engine = create_engine(\n",
    "    f\"mysql+mysqlconnector://{config['user']}:{password}@{config['host']}/{config['database']}\"\n",
    ")"
   ]
  },
  {
   "cell_type": "code",
   "execution_count": 26,
   "id": "a33c9d7f",
   "metadata": {},
   "outputs": [],
   "source": [
    "query = \"\"\"\n",
    "SELECT \n",
    "    p.Name,\n",
    "    p.Experience,\n",
    "    ROUND(DATEDIFF(DATE(CONCAT('20', RIGHT(s.Season, 2), '-06-30')), p.Birth_date) / 365.25, 1) AS Age_then,\n",
    "    CASE \n",
    "        WHEN p.Experience >= (2025 - (2000 + CAST(RIGHT(s.Season, 2) AS UNSIGNED))) \n",
    "        THEN p.Experience - (2025 - (2000 + CAST(RIGHT(s.Season, 2) AS UNSIGNED)))\n",
    "        ELSE 0\n",
    "    END AS Exp_then,\n",
    "    CASE \n",
    "        WHEN ROUND(DATEDIFF(DATE(CONCAT('20', RIGHT(s.Season, 2), '-06-30')), p.Birth_date) / 365.25, 1) > 0 \n",
    "        AND p.Experience >= (2025 - (2000 + CAST(RIGHT(s.Season, 2) AS UNSIGNED)))\n",
    "        THEN (p.Experience - (2025 - (2000 + CAST(RIGHT(s.Season, 2) AS UNSIGNED)))) / \n",
    "             ROUND(DATEDIFF(DATE(CONCAT('20', RIGHT(s.Season, 2), '-06-30')), p.Birth_date) / 365.25, 1)\n",
    "        ELSE NULL\n",
    "    END AS Skill,\n",
    "    s.Season,\n",
    "    CASE \n",
    "        WHEN s.Season IN ('2022-23', '2023-24') THEN 'جدید'\n",
    "        ELSE 'قدیم'\n",
    "    END AS Period\n",
    "FROM champion_players cp\n",
    "JOIN players p ON cp.PlayerID = p.PlayerID\n",
    "JOIN seasons s ON cp.SeasonID = s.SeasonID\n",
    "WHERE s.Season IN ('2020-21', '2021-22', '2022-23', '2023-24')\n",
    "    AND p.Birth_date IS NOT NULL\n",
    "    AND p.Experience IS NOT NULL\n",
    "    AND DATEDIFF(DATE(CONCAT('20', RIGHT(s.Season, 2), '-06-30')), p.Birth_date) > 0\n",
    "ORDER BY Period, s.Season, Skill DESC;\n",
    "\"\"\"\n",
    "\n",
    "\n",
    "skill = pd.read_sql(query, engine)\n",
    "\n",
    "skill = skill.dropna(subset=['Skill'])\n",
    "\n",
    "old_period = skill[skill['Period'] == 'قدیم']['Skill'].values\n",
    "new_period = skill[skill['Period'] == 'جدید']['Skill'].values"
   ]
  },
  {
   "cell_type": "code",
   "execution_count": 27,
   "id": "a587da62",
   "metadata": {},
   "outputs": [
    {
     "name": "stdout",
     "output_type": "stream",
     "text": [
      "old period\n",
      "\n",
      "\n",
      "count    35.000000\n",
      "mean      0.181280\n",
      "std       0.126906\n",
      "min       0.000000\n",
      "25%       0.068750\n",
      "50%       0.134700\n",
      "75%       0.285400\n",
      "max       0.416700\n",
      "dtype: float64\n",
      "\n",
      "\n",
      "\n",
      "\n",
      "new period\n",
      "\n",
      "\n",
      "count    37.000000\n",
      "mean      0.203214\n",
      "std       0.122758\n",
      "min       0.000000\n",
      "25%       0.114500\n",
      "50%       0.185900\n",
      "75%       0.281700\n",
      "max       0.446200\n",
      "dtype: float64\n"
     ]
    }
   ],
   "source": [
    "print('old period')\n",
    "print(\"\\n\")\n",
    "print(pd.Series(old_period).describe())\n",
    "print(\"\\n\")\n",
    "print(\"\\n\")\n",
    "print('new period')\n",
    "print(\"\\n\")\n",
    "print(pd.Series(new_period).describe())"
   ]
  },
  {
   "cell_type": "code",
   "execution_count": 29,
   "id": "c1fd16ef",
   "metadata": {},
   "outputs": [
    {
     "name": "stdout",
     "output_type": "stream",
     "text": [
      "\n",
      "Shapiro-Wilk Test for Normality - Old Period: statistic=0.9312, p-value=0.0305\n",
      "Shapiro-Wilk Test for Normality - New Period: statistic=0.9561, p-value=0.1521\n"
     ]
    }
   ],
   "source": [
    "shapiro_old = stats.shapiro(old_period)\n",
    "shapiro_new = stats.shapiro(new_period)\n",
    "print(f\"\\nShapiro-Wilk Test for Normality - Old Period: statistic={shapiro_old.statistic:.4f}, p-value={shapiro_old.pvalue:.4f}\")\n",
    "print(f\"Shapiro-Wilk Test for Normality - New Period: statistic={shapiro_new.statistic:.4f}, p-value={shapiro_new.pvalue:.4f}\")"
   ]
  },
  {
   "cell_type": "markdown",
   "id": "aa008938",
   "metadata": {},
   "source": [
    "<div style=\"font-family:Tahoma, sans-serif; direction:rtl; line-height:1.8; font-size:17px; text-align:justify; padding:12px; border:1px solid #ddd; border-radius:8px; box-sizing:border-box; max-width:100%; margin:0 auto;\">\n",
    "  <p>\n",
    "    p-value (0.0305) کمتر از 0.05 هست. این یعنی با 95% اطمینان فرض صفر (نرمال بودن) رد می‌شه. \n",
    "    <br><b>نتیجه:</b> داده‌های دوره قدیم (2020-21 و 2021-22) به‌طور آماری غیرنرمالن. این می‌تونه به‌خاطر وجود اوت‌لایرها (مثلاً بازیکنان خیلی جوان یا خیلی با تجربه) \n",
    "  </p>\n",
    "  <p>\n",
    "    p-value (0.1521) بیشتر از 0.05 هست. این یعنی با 95% اطمینان نمی‌تونیم فرض صفر (نرمال بودن) رو رد کنیم. \n",
    "    <br><b>نتیجه:</b> داده‌های دوره جدید (2022-23 و 2023-24) به‌طور آماری نرمال به نظر می‌رسن. این برای تست‌های پارامتریک مثل t-test مناسبه، اما چون دوره قدیم غیرنرماله، بهتره از روش‌های غیرپارامتریک برای مقایسه دو دوره استفاده کنیم تا نتیجه دقیق‌تر باشه.\n",
    "  </p>\n",
    "</div>"
   ]
  },
  {
   "cell_type": "code",
   "execution_count": null,
   "id": "ed9905e2",
   "metadata": {},
   "outputs": [
    {
     "name": "stdout",
     "output_type": "stream",
     "text": [
      "mann_whitney test result: \n",
      "\n",
      "\n",
      "U-statistic: 720.5000\n",
      "p-value: 0.2070\n"
     ]
    }
   ],
   "source": [
    "# H0 = تفاوتی وجود نداره\n",
    "\n",
    "t_stat, p_value = stats.mannwhitneyu(new_period, old_period, alternative='greater')\n",
    "\n",
    "print(\"mann_whitney test result: \")\n",
    "print(\"\\n\")\n",
    "print(f\"U-statistic: {t_stat:.4f}\")\n",
    "print(f\"p-value: {p_value:.4f}\")"
   ]
  },
  {
   "cell_type": "markdown",
   "id": "bdb3418b",
   "metadata": {},
   "source": [
    "<div style=\"font-family:Tahoma, sans-serif; direction:rtl; line-height:1.8; font-size:17px; text-align:justify; padding:12px; border:1px solid #ddd; border-radius:8px; box-sizing:border-box; max-width:100%; margin:0 auto;\">\n",
    "  <p>\n",
    "    مقدار U-statistic (720.5000) نشان‌دهنده تفاوت متوسط در رتبه‌بندی‌های توانایی ذاتی (Skill) بین دو دوره است، اما این مقدار نسبتاً بالاست، که نشان‌دهنده تفاوت کم بین دوره جدید و قدیم است.\n",
    "  </p>\n",
    "  <p>\n",
    "    p-value (0.2070) که بیشتر از 0.05 است، بیانگر این است که با 95% اطمینان نمی‌توان فرض صفر (H0: μnew ≤ μold) را رد کرد.\n",
    "  </p>\n",
    "  <p>\n",
    "    این یعنی شواهد آماری کافی برای تأیید ادعای افزایش معنادار توانایی ذاتی (Skill) در فصول جدید (2022-23 و 2023-24) نسبت به فصول قدیم (2020-21 و 2021-22) وجود ندارد.\n",
    "  </p>\n",
    "  <p>\n",
    "    اختلاف میانگین Skill (0.203 در مقابل 0.181، یعنی 0.022) بسیار کوچک است و به نظر می‌رسد تحت تأثیر پراکندگی داده‌ها (انحراف معیار حدود 0.123 تا 0.127) یا نویز تصادفی قرار گرفته است.\n",
    "  </p>\n",
    "</div>"
   ]
  },
  {
   "cell_type": "code",
   "execution_count": 32,
   "id": "3b6d460d",
   "metadata": {},
   "outputs": [
    {
     "data": {
      "image/png": "[encoded data removed]",
      "text/plain": [
       "<Figure size 800x400 with 2 Axes>"
      ]
     },
     "metadata": {},
     "output_type": "display_data"
    },
    {
     "name": "stderr",
     "output_type": "stream",
     "text": [
      "C:\\Users\\Asus\\AppData\\Local\\Temp\\ipykernel_4684\\2035109828.py:23: FutureWarning: \n",
      "\n",
      "Passing `palette` without assigning `hue` is deprecated and will be removed in v0.14.0. Assign the `x` variable to `hue` and set `legend=False` for the same effect.\n",
      "\n",
      "  sns.boxplot(data=df_skill, x='Group', y='Skill', palette=['skyblue', 'salmon'], width=0.5)\n"
     ]
    },
    {
     "data": {
      "image/png": "[encoded data removed]",
      "text/plain": [
       "<Figure size 400x400 with 1 Axes>"
      ]
     },
     "metadata": {},
     "output_type": "display_data"
    }
   ],
   "source": [
    "fig, axes = plt.subplots(1, 2, figsize=(8, 4), sharey=True)\n",
    "sns.histplot(old_period, bins=10, color='skyblue', ax=axes[0], kde=False, edgecolor='black')\n",
    "axes[0].set_title('Previous Period Skill', fontsize=10)\n",
    "axes[0].set_xlabel('Skill (Experience/Age)')\n",
    "axes[0].set_ylabel('Count')\n",
    "\n",
    "sns.histplot(new_period, bins=10, color='salmon', ax=axes[1], kde=False, edgecolor='black')\n",
    "axes[1].set_title('Recent Period Skill', fontsize=10)\n",
    "axes[1].set_xlabel('Skill (Experience/Age)')\n",
    "axes[1].set_ylabel('')\n",
    "\n",
    "fig.suptitle('Skill Distribution Comparison', fontsize=12)\n",
    "plt.tight_layout()\n",
    "plt.savefig('skill_histogram.png')\n",
    "plt.show()\n",
    "\n",
    "\n",
    "plt.figure(figsize=(4, 4))\n",
    "df_skill = pd.DataFrame({\n",
    "    'Skill': list(old_period) + list(new_period),\n",
    "    'Group': ['Previous Period'] * len(old_period) + ['Recent Period'] * len(new_period)\n",
    "})\n",
    "sns.boxplot(data=df_skill, x='Group', y='Skill', palette=['skyblue', 'salmon'], width=0.5)\n",
    "plt.title('Skill Comparison', fontsize=10)\n",
    "plt.ylabel('Skill (Experience/Age)')\n",
    "plt.xlabel('')\n",
    "plt.xticks([0, 1], ['Previous Period\\n(2021-22 to 2022-23)', 'Recent Period\\n(2023-24 to 2024-25)'], fontsize=9)\n",
    "plt.grid(False)\n",
    "plt.tight_layout()\n",
    "plt.savefig('skill_boxplot.png')\n",
    "plt.show()"
   ]
  },
  {
   "cell_type": "markdown",
   "id": "a78c1a38",
   "metadata": {},
   "source": [
    "<div style=\"font-family:Tahoma, sans-serif; direction:rtl; line-height:1.8; font-size:17px; text-align:justify; padding:12px; border:1px solid #ddd; border-radius:8px; box-sizing:border-box; max-width:100%; margin:0 auto;\">\n",
    "  <p>\n",
    "    <b>تفسیر هیستوگرام (Skill Distribution Comparison):</b> هر دو دوره (قدیم: 2020-21 و 2021-22، جدید: 2022-23 و 2023-24) توزیع مشابهی دارن، با اوج بین 0.1 تا 0.2. دوره جدید یه کم به سمت Skill بالاتر شیفت کرده (میانگین 0.203 vs 0.181)، ولی هم‌پوشانی زیاده و تفاوت چشمگیری نیست.\n",
    "  </p>\n",
    "  <p>\n",
    "    <b>تفسیر باکس‌پلات (Skill Comparison):</b> میانه Skill تو دوره جدید (حدود 0.19) کمی از قدیم (حدود 0.13) بیشتره، ولی جعبه‌ها نزدیک و پراکندگی مشابهه. چند اوت‌لایر (مثلاً بالای 0.4) تو هر دو دوره هست که نشون‌دهنده بازیکنای خاصه.\n",
    "  </p>\n",
    "  <p>\n",
    "    <b>نتیجه کلی:</b> این نمودارها با تست Mann-Whitney U (p-value=0.2070) جور درمیان که فرضیه افزایش توانایی ذاتی تو فصول جدید رد می‌شه. اختلاف کوچیک میانگین (0.022) به نظر تصادفی و تحت تأثیر پراکندگی داده‌هاست.\n",
    "  </p>\n",
    "</div>"
   ]
  }
 ],
 "metadata": {
  "kernelspec": {
   "display_name": "Python 3",
   "language": "python",
   "name": "python3"
  },
  "language_info": {
   "codemirror_mode": {
    "name": "ipython",
    "version": 3
   },
   "file_extension": ".py",
   "mimetype": "text/x-python",
   "name": "python",
   "nbconvert_exporter": "python",
   "pygments_lexer": "ipython3",
   "version": "3.11.9"
  }
 },
 "nbformat": 4,
 "nbformat_minor": 5
}
