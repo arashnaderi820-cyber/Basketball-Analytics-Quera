{
 "cells": [
  {
   "cell_type": "code",
   "execution_count": 4,
   "id": "f3799767",
   "metadata": {},
   "outputs": [],
   "source": [
    "import pandas as pd\n",
    "import numpy as np\n",
    "import matplotlib.pyplot as plt\n",
    "import seaborn as sns\n",
    "from scipy import stats\n",
    "import mysql.connector\n",
    "from mysql.connector import errorcode\n",
    "from urllib.parse import quote_plus\n",
    "from sqlalchemy import create_engine"
   ]
  },
  {
   "cell_type": "code",
   "execution_count": 5,
   "id": "167c045c",
   "metadata": {},
   "outputs": [],
   "source": [
    "config = {\n",
    "    'host': 'localhost',\n",
    "    'user': 'root',\n",
    "    'password': 'Physic955',\n",
    "    'database': 'Basketball_Reference'\n",
    "}\n",
    "\n",
    "password = quote_plus(\"Physic955\")\n",
    "engine = create_engine(\n",
    "    f\"mysql+mysqlconnector://{config['user']}:{password}@{config['host']}/{config['database']}\"\n",
    ")"
   ]
  },
  {
   "cell_type": "code",
   "execution_count": 11,
   "id": "92072d13",
   "metadata": {},
   "outputs": [],
   "source": [
    "query = \"\"\"\n",
    "    SELECT \n",
    "        p.Name,\n",
    "        (p.Height / p.Weight) AS Agility,\n",
    "        s.Season,\n",
    "        CASE \n",
    "            WHEN s.Season IN ('2020-21','2021-22') THEN 'قدیم'\n",
    "            ELSE 'جدید'\n",
    "        END AS Period\n",
    "    FROM players p\n",
    "    JOIN player_ranks pr ON p.PlayerID = pr.PlayerID\n",
    "    JOIN seasons s ON pr.SeasonID = s.SeasonID\n",
    "    WHERE pr.Rank <= 20 \n",
    "        AND s.Season IN ('2020-21','2021-22','2022-23','2023-24')\n",
    "    ORDER BY \n",
    "        Period,\n",
    "        s.Season,\n",
    "        Agility DESC;\n",
    "\"\"\"\n",
    "top20 = pd.read_sql(query, engine)\n",
    "        \n",
    "old_period = top20[top20['Period'] == 'قدیم']['Agility'].values\n",
    "new_period = top20[top20['Period'] == 'جدید']['Agility'].values"
   ]
  },
  {
   "cell_type": "code",
   "execution_count": null,
   "id": "cb380251",
   "metadata": {},
   "outputs": [
    {
     "name": "stdout",
     "output_type": "stream",
     "text": [
      "old period\n",
      "\n",
      "\n",
      "count    40.000000\n",
      "mean      2.037790\n",
      "std       0.241249\n",
      "min       1.546900\n",
      "25%       1.903300\n",
      "50%       1.985300\n",
      "75%       2.177800\n",
      "max       2.500000\n",
      "dtype: float64\n",
      "\n",
      "\n",
      "\n",
      "\n",
      "new period\n",
      "\n",
      "\n",
      "count    40.000000\n",
      "mean      2.039425\n",
      "std       0.203166\n",
      "min       1.648400\n",
      "25%       1.903800\n",
      "50%       2.000000\n",
      "75%       2.179850\n",
      "max       2.500000\n",
      "dtype: float64\n"
     ]
    }
   ],
   "source": [
    "print('old period')\n",
    "print(\"\\n\")\n",
    "print(pd.Series(old_period).describe())\n",
    "print(\"\\n\")\n",
    "print(\"\\n\")\n",
    "print('new period')\n",
    "print(\"\\n\")\n",
    "print(pd.Series(new_period).describe())"
   ]
  },
  {
   "cell_type": "markdown",
   "id": "d3877fbd",
   "metadata": {},
   "source": [
    "<div style=\"font-family:Tahoma, sans-serif; direction:rtl; line-height:1.8; font-size:15px; text-align:justify; padding:12px; border:1px solid #ddd; border-radius:8px; box-sizing:border-box; max-width:100%; margin:0 auto;\">\n",
    "  <p>\n",
    "    مقایسه میانگین‌ها نشان می‌دهد که چابکی متوسط در دوسال جدید (۲.۰۳۹۴۲۵) اندکی بیشتر از دوسال قدیم (۲.۰۳۷۷۹۰) است، \n",
    "    با اختلاف ناچیز ۰.۰۰۱۶۳۵ (تقریباً ۰.۰۸%).\n",
    "  </p>\n",
    "  <p>\n",
    "    انحراف معیار در دوسال جدید (۰.۲۰۳۱۶۶) کمی کمتر از دوسال قدیم (۰.۲۴۱۲۴۹) است، \n",
    "    که می‌تواند نشان‌دهنده یکنواختی بیشتر چابکی در بازیکنان برتر جدید باشد.\n",
    "  </p>\n",
    "  <p>\n",
    "    با این حال، این تفاوت‌ها از نظر عددی بسیار کوچک هستند و به‌تنهایی نمی‌توانند فرضیه افزایش چابکی را تأیید کنند، \n",
    "    مگر اینکه با تست آماری معنادار شوند.\n",
    "  </p>\n",
    "</div>\n"
   ]
  },
  {
   "cell_type": "code",
   "execution_count": 18,
   "id": "b824376c",
   "metadata": {},
   "outputs": [
    {
     "name": "stdout",
     "output_type": "stream",
     "text": [
      "\n",
      "Shapiro-Wilk Test for Normality - Old Period: statistic=0.9727, p-value=0.4368\n",
      "Shapiro-Wilk Test for Normality - New Period: statistic=0.9769, p-value=0.5776\n"
     ]
    }
   ],
   "source": [
    "shapiro_old = stats.shapiro(old_period)\n",
    "shapiro_new = stats.shapiro(new_period)\n",
    "print(f\"\\nShapiro-Wilk Test for Normality - Old Period: statistic={shapiro_old.statistic:.4f}, p-value={shapiro_old.pvalue:.4f}\")\n",
    "print(f\"Shapiro-Wilk Test for Normality - New Period: statistic={shapiro_new.statistic:.4f}, p-value={shapiro_new.pvalue:.4f}\")"
   ]
  },
  {
   "cell_type": "markdown",
   "id": "43b98a9e",
   "metadata": {},
   "source": [
    "<div style=\"font-family:Tahoma, sans-serif; direction:rtl; line-height:1.8; font-size:15px; text-align:justify; padding:12px; border:1px solid #ddd; border-radius:8px; box-sizing:border-box; max-width:100%; margin:0 auto;\">\n",
    "  <p>\n",
    "    در هر دو دوره، p-value بیشتر از آستانه ۰.۰۵ است، که نشان می‌دهد نمی‌توان فرض صفر \n",
    "    (داده‌ها غیرنرمال هستند) را رد کرد.\n",
    "  </p>\n",
    "  <p>\n",
    "    این یعنی توزیع چابکی در هر دو دوره به‌طور آماری نرمال است (با اطمینان ۹۵%).\n",
    "  </p>\n",
    "  <p>\n",
    "    نتیجه نرمال بودن داده‌ها، استفاده از تست t (که فرض نرمال بودن را نیاز دارد) را برای مقایسه میانگین‌ها \n",
    "    توجیه‌پذیر می‌کند و نشان می‌دهد که داده‌ها برای این تحلیل آماری مناسب هستند.\n",
    "  </p>\n",
    "</div>\n"
   ]
  },
  {
   "cell_type": "code",
   "execution_count": 22,
   "id": "69554560",
   "metadata": {},
   "outputs": [
    {
     "name": "stdout",
     "output_type": "stream",
     "text": [
      "t test result: \n",
      "\n",
      "\n",
      "t-statistic: 0.0328\n",
      "p-value: 0.4870\n"
     ]
    }
   ],
   "source": [
    "# H0 = تفاوتی وجود نداره\n",
    "\n",
    "\n",
    "t_stat, p_value = stats.ttest_ind(new_period, old_period, alternative='greater')\n",
    "\n",
    "print(\"t test result: \")\n",
    "print(\"\\n\")\n",
    "print(f\"t-statistic: {t_stat:.4f}\")\n",
    "print(f\"p-value: {p_value:.4f}\")"
   ]
  },
  {
   "cell_type": "markdown",
   "id": "47f73f8e",
   "metadata": {},
   "source": [
    "<div style=\"font-family:Tahoma, sans-serif; direction:rtl; line-height:1.8; font-size:15px; text-align:justify; padding:12px; border:1px solid #ddd; border-radius:8px; box-sizing:border-box; max-width:100%; margin:0 auto;\">\n",
    "  <p>\n",
    "    مقدار t-statistic (۰.۰۳۲۸) بسیار پایین است، که نشان‌دهنده تفاوت ناچیز میانگین‌ها نسبت به پراکندگی داده‌هاست.\n",
    "  </p>\n",
    "  <p>\n",
    "    p-value (۰.۴۸۷۰) که بیشتر از ۰.۰۵ است، بیانگر این است که با ۹۵% اطمینان نمی‌توان فرض صفر \n",
    "    (H0: μ<sub>new</sub> ≤ μ<sub>old</sub>) را رد کرد.\n",
    "  </p>\n",
    "  <p>\n",
    "    این یعنی شواهد آماری کافی برای تأیید ادعای افزایش معنادار چابکی در دوره جدید نسبت به دوره قدیم وجود ندارد.\n",
    "  </p>\n",
    "  <p>\n",
    "    اختلاف میانگین (۰.۰۰۱۶۳۵) بسیار کوچک است و به نظر می‌رسد تحت تأثیر نویز داده‌ها یا پراکندگی \n",
    "    (انحراف معیار حدود ۰.۲) قرار گرفته است.\n",
    "  </p>\n",
    "</div>\n"
   ]
  },
  {
   "cell_type": "code",
   "execution_count": null,
   "id": "50175583",
   "metadata": {},
   "outputs": [
    {
     "data": {
      "image/png": "[encoded data removed]",
      "text/plain": [
       "<Figure size 800x400 with 2 Axes>"
      ]
     },
     "metadata": {},
     "output_type": "display_data"
    },
    {
     "data": {
      "image/png": "[encoded data removed]",
      "text/plain": [
       "<Figure size 400x400 with 1 Axes>"
      ]
     },
     "metadata": {},
     "output_type": "display_data"
    }
   ],
   "source": [
    "fig, axes = plt.subplots(1, 2, figsize=(8, 4), sharey=True)\n",
    "sns.histplot(old_period, bins=10, color='skyblue', ax=axes[0], kde=False, edgecolor='black')\n",
    "axes[0].set_title('Old Period Agility', fontsize=10)\n",
    "axes[0].set_xlabel('Agility')\n",
    "axes[0].set_ylabel('Count')\n",
    "axes[0].grid(False)\n",
    "\n",
    "sns.histplot(new_period, bins=10, color='salmon', ax=axes[1], kde=False, edgecolor='black')\n",
    "axes[1].set_title('New Period Agility', fontsize=10)\n",
    "axes[1].set_xlabel('Agility')\n",
    "axes[1].set_ylabel('')\n",
    "axes[1].grid(False)\n",
    "\n",
    "fig.suptitle('Agility Distributions', fontsize=12)\n",
    "plt.tight_layout()\n",
    "plt.savefig('agility_histogram.png')\n",
    "plt.show()\n",
    "\n",
    "\n",
    "plt.figure(figsize=(4, 4))\n",
    "data = [old_period, new_period]\n",
    "sns.boxplot(data=data, palette=['skyblue', 'salmon'], width=0.5)\n",
    "plt.xticks([0, 1], ['Old', 'New'])\n",
    "plt.title('Agility Comparison', fontsize=10)\n",
    "plt.ylabel('Agility')\n",
    "plt.grid(False)\n",
    "plt.tight_layout()\n",
    "plt.savefig('agility_boxplot.png')\n",
    "plt.show()"
   ]
  },
  {
   "cell_type": "markdown",
   "id": "a6dfb8c4",
   "metadata": {},
   "source": [
    "<div style=\"font-family:Tahoma, sans-serif; direction:rtl; line-height:1.8; font-size:15px; text-align:justify; padding:12px; border:1px solid #ddd; border-radius:8px; box-sizing:border-box; max-width:100%; margin:0 auto;\">\n",
    "  <p>\n",
    "    هیستوگرام‌ها: توزیع قدیم اوج در بازه ۲.۰ تا ۲.۲ دارد، در حالی که توزیع جدید متمرکزتر در ۲.۰ است. \n",
    "    با این حال، دامنه مشابه نشان از عدم تغییر عمده دارد.\n",
    "  </p>\n",
    "  <p>\n",
    "    باکس‌پلات: میانه‌ها (۱.۹۸۵ در برابر ۲.۰۰۰) نزدیک هستند و دامنه مشابه، بدون اوت‌لایرهای چشمگیر، \n",
    "    تأییدکننده عدم تفاوت است.\n",
    "  </p>\n",
    "</div>\n"
   ]
  },
  {
   "cell_type": "markdown",
   "id": "d170401d",
   "metadata": {},
   "source": [
    "<div style=\"font-family:Tahoma, sans-serif; direction:rtl; line-height:1.8; font-size:17px; text-align:justify; padding:12px; border:1px solid #ddd; border-radius:8px; box-sizing:border-box; max-width:100%; margin:0 auto;\">\n",
    "  <p style=\"font-weight:bold; color:#0066cc; margin-top:0;\">\n",
    "    نتیجه‌گیری کلی\n",
    "  </p>\n",
    "  <p>\n",
    "  با توجه به آمار توصیفی (اختلاف ناچیز میانگین)، نرمال بودن داده‌ها، و p-value بالای t-test، فرضیه افزایش میانگین چابکی رد می‌شود. پلات‌ها نشان‌دهنده توزیع‌های مشابه هستند، بنابراین هیچ بهبود معنادار یا عملی در چابکی بازیکنان برتر مشاهده نمی‌شود. پیشنهاد: استفاده از معیارهای دقیق‌تر مانند سرعت یا تست‌های فیزیکی برای تحلیل آینده.\n",
    "  </p>\n",
    "</div>"
   ]
  }
 ],
 "metadata": {
  "kernelspec": {
   "display_name": "Python 3",
   "language": "python",
   "name": "python3"
  },
  "language_info": {
   "codemirror_mode": {
    "name": "ipython",
    "version": 3
   },
   "file_extension": ".py",
   "mimetype": "text/x-python",
   "name": "python",
   "nbconvert_exporter": "python",
   "pygments_lexer": "ipython3",
   "version": "3.11.9"
  }
 },
 "nbformat": 4,
 "nbformat_minor": 5
}
