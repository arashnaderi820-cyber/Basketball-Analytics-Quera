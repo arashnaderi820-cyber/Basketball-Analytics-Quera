{
 "cells": [
  {
   "cell_type": "code",
   "execution_count": 3,
   "id": "a97e2e30",
   "metadata": {},
   "outputs": [],
   "source": [
    "import pandas as pd\n",
    "import numpy as np\n",
    "import matplotlib.pyplot as plt\n",
    "import seaborn as sns\n",
    "import mysql.connector\n",
    "from mysql.connector import errorcode\n",
    "from urllib.parse import quote_plus\n",
    "from sqlalchemy import create_engine"
   ]
  },
  {
   "cell_type": "code",
   "execution_count": 4,
   "id": "69ceeb26",
   "metadata": {},
   "outputs": [],
   "source": [
    "config = {\n",
    "    'host': 'localhost',\n",
    "    'user': 'root',\n",
    "    'password': 'Physic955',\n",
    "    'database': 'Basketball_Reference'\n",
    "}\n",
    "\n",
    "password = quote_plus(\"Physic955\")\n",
    "engine = create_engine(\n",
    "    f\"mysql+mysqlconnector://{config['user']}:{password}@{config['host']}/{config['database']}\"\n",
    ")"
   ]
  },
  {
   "cell_type": "code",
   "execution_count": 5,
   "id": "48cb9b99",
   "metadata": {},
   "outputs": [
    {
     "name": "stdout",
     "output_type": "stream",
     "text": [
      "                       Name  Height  Experience   Season\n",
      "0        Kristaps Porziņģis     218           9  2023-24\n",
      "1               Luke Kornet     218           8  2023-24\n",
      "2             Neemias Queta     213           4  2023-24\n",
      "3             Drew Peterson     206           2  2023-24\n",
      "4             Dalano Banton     206           4  2023-24\n",
      "5                Al Horford     206          18  2023-24\n",
      "6        Xavier Tillman Sr.     203           5  2023-24\n",
      "7                Sam Hauser     203           4  2023-24\n",
      "8              Jayson Tatum     203           8  2023-24\n",
      "9              Jordan Walsh     201           2  2023-24\n",
      "10           Oshae Brissett     201           6  2023-24\n",
      "11           Svi Mykhailiuk     201           7  2023-24\n",
      "12            Lamar Stevens     198           5  2023-24\n",
      "13             Jaylen Brown     198           9  2023-24\n",
      "14             Jrue Holiday     193          16  2023-24\n",
      "15           Jaden Springer     193           4  2023-24\n",
      "16            Derrick White     193           8  2023-24\n",
      "17               JD Davison     185           3  2023-24\n",
      "18         Payton Pritchard     185           5  2023-24\n",
      "19            Chet Holmgren     216           2  2024-25\n",
      "20          Branden Carlson     213           1  2024-25\n",
      "21       Isaiah Hartenstein     213           7  2024-25\n",
      "22            Ousmane Dieng     208           3  2024-25\n",
      "23             Malevy Leons     206           1  2024-25\n",
      "24               Alex Reese     206           1  2024-25\n",
      "25          Jaylin Williams     203           3  2024-25\n",
      "26         Kenrich Williams     201           7  2024-25\n",
      "27            Aaron Wiggins     198           4  2024-25\n",
      "28  Shai Gilgeous-Alexander     198           7  2024-25\n",
      "29               Alex Ducas     198           1  2024-25\n",
      "30           Jalen Williams     198           3  2024-25\n",
      "31              Alex Caruso     196           8  2024-25\n",
      "32               Isaiah Joe     196           5  2024-25\n",
      "33             Dillon Jones     196           1  2024-25\n",
      "34            Ajay Mitchell     196           1  2024-25\n",
      "35            Luguentz Dort     193           6  2024-25\n",
      "36            Cason Wallace     193           2  2024-25\n",
      "37             Adam Flagler     190           2  2024-25\n"
     ]
    }
   ],
   "source": [
    "query_champions = \"\"\"\n",
    "    SELECT p.Name, p.Height, p.Experience, s.Season\n",
    "    FROM champion_players cp\n",
    "    JOIN players p ON cp.PlayerID = p.PlayerID\n",
    "    JOIN seasons s ON cp.SeasonID = s.SeasonID\n",
    "    JOIN champions c ON cp.ChampionID = c.ChampionID\n",
    "    WHERE s.Season IN ('2023-24','2024-25')\n",
    "    ORDER BY s.Season, p.Height DESC;\n",
    "\"\"\"\n",
    "championplayers = pd.read_sql(query_champions, engine)\n",
    "print(championplayers)"
   ]
  },
  {
   "cell_type": "code",
   "execution_count": 6,
   "id": "c82a1f17",
   "metadata": {},
   "outputs": [
    {
     "name": "stdout",
     "output_type": "stream",
     "text": [
      "                       Name  Height  Experience   Season  Rank\n",
      "0               Luka Dončić     198           7  2023-24     1\n",
      "1   Shai Gilgeous-Alexander     198           7  2024-25     1\n",
      "2   Shai Gilgeous-Alexander     198           7  2023-24     2\n",
      "3           Anthony Edwards     193           5  2024-25     2\n",
      "4     Giannis Antetokounmpo     211          12  2023-24     3\n",
      "5              Nikola Jokić     211          10  2024-25     3\n",
      "6             Jalen Brunson     188           7  2023-24     4\n",
      "7     Giannis Antetokounmpo     211          12  2024-25     4\n",
      "8              Nikola Jokić     211          10  2023-24     5\n",
      "9              Jayson Tatum     203           8  2024-25     5\n",
      "10          Anthony Edwards     193           5  2023-24     6\n",
      "11             Devin Booker     198          10  2024-25     6\n",
      "12             Kevin Durant     211          17  2023-24     7\n",
      "13               Trae Young     185           7  2024-25     7\n",
      "14             Jayson Tatum     203           8  2023-24     8\n",
      "15              Tyler Herro     196           6  2024-25     8\n",
      "16             De'Aaron Fox     190           8  2023-24     9\n",
      "17          Cade Cunningham     198           4  2024-25     9\n",
      "18            Stephen Curry     188          16  2023-24    10\n",
      "19             James Harden     196          16  2024-25    10\n",
      "20            DeMar DeRozan     198          16  2023-24    11\n",
      "21       Karl-Anthony Towns     213          10  2024-25    11\n",
      "22            Anthony Davis     208          13  2023-24    12\n",
      "23              Zach LaVine     196          11  2024-25    12\n",
      "24             Devin Booker     198          10  2023-24    13\n",
      "25              Jalen Green     193           4  2024-25    13\n",
      "26             LeBron James     206          22  2023-24    14\n",
      "27            Stephen Curry     188          16  2024-25    14\n",
      "28             Tyrese Maxey     188           5  2023-24    15\n",
      "29            DeMar DeRozan     198          16  2024-25    15\n"
     ]
    }
   ],
   "source": [
    "query_top15 = \"\"\"\n",
    "    SELECT p.Name, p.Height, p.Experience, s.Season, pr.Rank\n",
    "    FROM player_ranks pr\n",
    "    JOIN players p ON pr.PlayerID = p.PlayerID\n",
    "    JOIN seasons s ON pr.SeasonID = s.SeasonID\n",
    "    WHERE s.Season IN ('2023-24', '2024-25') AND pr.Rank <= 15\n",
    "    ORDER BY pr.Rank;\n",
    "\"\"\"\n",
    "top15 = pd.read_sql(query_top15, engine)\n",
    "    \n",
    "print(top15)"
   ]
  },
  {
   "cell_type": "code",
   "execution_count": 7,
   "id": "82ea02a7",
   "metadata": {},
   "outputs": [
    {
     "name": "stdout",
     "output_type": "stream",
     "text": [
      "Champions Height Players\n",
      "\n",
      "\n",
      "count     38.000000\n",
      "mean     201.105263\n",
      "std        8.271702\n",
      "min      185.000000\n",
      "25%      196.000000\n",
      "50%      201.000000\n",
      "75%      206.000000\n",
      "max      218.000000\n",
      "Name: Height, dtype: float64\n",
      "\n",
      "\n",
      "15 Top Height Players\n",
      "\n",
      "\n",
      "count     30.000000\n",
      "mean     198.866667\n",
      "std        8.265981\n",
      "min      185.000000\n",
      "25%      193.000000\n",
      "50%      198.000000\n",
      "75%      205.250000\n",
      "max      213.000000\n",
      "Name: Height, dtype: float64\n"
     ]
    }
   ],
   "source": [
    "champions_height_stats = championplayers['Height'].describe()\n",
    "top15_height_stats = top15['Height'].describe()\n",
    "champions_exp_stats = championplayers['Experience'].describe()\n",
    "top15_exp_stats = top15['Experience'].describe()\n",
    "\n",
    "print('Champions Height Players')\n",
    "print('\\n')\n",
    "print(champions_height_stats)\n",
    "print('\\n')\n",
    "print('15 Top Height Players')\n",
    "print('\\n')\n",
    "print(top15_height_stats)"
   ]
  },
  {
   "cell_type": "code",
   "execution_count": 8,
   "id": "c20ac434",
   "metadata": {},
   "outputs": [
    {
     "name": "stdout",
     "output_type": "stream",
     "text": [
      "Champions Experience Players\n",
      "\n",
      "\n",
      "count    38.000000\n",
      "mean      5.052632\n",
      "std       3.812833\n",
      "min       1.000000\n",
      "25%       2.000000\n",
      "50%       4.000000\n",
      "75%       7.000000\n",
      "max      18.000000\n",
      "Name: Experience, dtype: float64\n",
      "\n",
      "\n",
      "15 Top Experience Players\n",
      "\n",
      "\n",
      "count    30.000000\n",
      "mean     10.166667\n",
      "std       4.586963\n",
      "min       4.000000\n",
      "25%       7.000000\n",
      "50%      10.000000\n",
      "75%      12.750000\n",
      "max      22.000000\n",
      "Name: Experience, dtype: float64\n"
     ]
    }
   ],
   "source": [
    "print('Champions Experience Players')\n",
    "print('\\n')\n",
    "print(champions_exp_stats)\n",
    "print('\\n')\n",
    "print('15 Top Experience Players')\n",
    "print('\\n')\n",
    "print(top15_exp_stats)"
   ]
  },
  {
   "cell_type": "code",
   "execution_count": 16,
   "id": "1f689d1d",
   "metadata": {},
   "outputs": [
    {
     "data": {
      "image/png": "[encoded data removed]",
      "text/plain": [
       "<Figure size 800x400 with 2 Axes>"
      ]
     },
     "metadata": {},
     "output_type": "display_data"
    },
    {
     "name": "stderr",
     "output_type": "stream",
     "text": [
      "C:\\Users\\Asus\\AppData\\Local\\Temp\\ipykernel_19916\\3068739064.py:28: FutureWarning: \n",
      "\n",
      "Passing `palette` without assigning `hue` is deprecated and will be removed in v0.14.0. Assign the `x` variable to `hue` and set `legend=False` for the same effect.\n",
      "\n",
      "  sns.boxplot(data=df_height, x='Group', y='Height', palette=['skyblue', 'salmon'], width=0.5)\n"
     ]
    },
    {
     "data": {
      "image/png": "[encoded data removed]",
      "text/plain": [
       "<Figure size 400x400 with 1 Axes>"
      ]
     },
     "metadata": {},
     "output_type": "display_data"
    },
    {
     "name": "stderr",
     "output_type": "stream",
     "text": [
      "C:\\Users\\Asus\\AppData\\Local\\Temp\\ipykernel_19916\\3068739064.py:43: FutureWarning: \n",
      "\n",
      "Passing `palette` without assigning `hue` is deprecated and will be removed in v0.14.0. Assign the `x` variable to `hue` and set `legend=False` for the same effect.\n",
      "\n",
      "  sns.boxplot(data=df_exp, x='Group', y='Experience', palette=['skyblue', 'salmon'], width=0.5)\n"
     ]
    },
    {
     "data": {
      "image/png": "[encoded data removed]",
      "text/plain": [
       "<Figure size 400x400 with 1 Axes>"
      ]
     },
     "metadata": {},
     "output_type": "display_data"
    }
   ],
   "source": [
    "import pandas as pd\n",
    "import matplotlib.pyplot as plt\n",
    "import seaborn as sns\n",
    "\n",
    "# هیستوگرام قد و تجربه\n",
    "fig, axes = plt.subplots(1, 2, figsize=(8, 4), sharey=True)\n",
    "sns.histplot(championplayers['Height'], bins=10, color='skyblue', ax=axes[0], kde=False, edgecolor='black')\n",
    "axes[0].set_title('Champion Teams Height', fontsize=10)\n",
    "axes[0].set_xlabel('Height (cm)')\n",
    "axes[0].set_ylabel('Count')\n",
    "\n",
    "sns.histplot(championplayers['Experience'], bins=10, color='salmon', ax=axes[1], kde=False, edgecolor='black')\n",
    "axes[1].set_title('Champion Teams Experience', fontsize=10)\n",
    "axes[1].set_xlabel('Experience (years)')\n",
    "axes[1].set_ylabel('')\n",
    "\n",
    "fig.suptitle('Champion Teams Distributions', fontsize=12)\n",
    "plt.tight_layout()\n",
    "plt.savefig('champion_histogram.png')\n",
    "plt.show()\n",
    "\n",
    "# باکس‌پلات قد\n",
    "plt.figure(figsize=(4, 4))\n",
    "df_height = pd.DataFrame({\n",
    "    'Height': list(championplayers['Height']) + list(top15['Height']),\n",
    "    'Group': ['Champion Teams'] * len(championplayers) + ['Top 15 Players'] * len(top15)\n",
    "})\n",
    "sns.boxplot(data=df_height, x='Group', y='Height', palette=['skyblue', 'salmon'], width=0.5)\n",
    "plt.title('Height Distribution', fontsize=10)\n",
    "plt.ylabel('Height (cm)')\n",
    "plt.xlabel('')\n",
    "plt.grid(False)\n",
    "plt.tight_layout()\n",
    "plt.savefig('height_boxplot.png')\n",
    "plt.show()\n",
    "\n",
    "# باکس‌پلات تجربه\n",
    "plt.figure(figsize=(4, 4))\n",
    "df_exp = pd.DataFrame({\n",
    "    'Experience': list(championplayers['Experience']) + list(top15['Experience']),\n",
    "    'Group': ['Champion Teams'] * len(championplayers) + ['Top 15 Players'] * len(top15)\n",
    "})\n",
    "sns.boxplot(data=df_exp, x='Group', y='Experience', palette=['skyblue', 'salmon'], width=0.5)\n",
    "plt.title('Experience Distribution', fontsize=10)\n",
    "plt.ylabel('Experience (years)')\n",
    "plt.xlabel('')\n",
    "plt.grid(False)\n",
    "plt.tight_layout()\n",
    "plt.savefig('experience_boxplot.png')\n",
    "plt.show()"
   ]
  },
  {
   "cell_type": "markdown",
   "id": "6217d5b8",
   "metadata": {},
   "source": [
    "<div style=\"font-family:Tahoma, sans-serif; direction:rtl; line-height:1.8; font-size:17px; text-align:justify; padding:12px; border:1px solid #ddd; border-radius:8px; box-sizing:border-box; max-width:100%; margin:0 auto;\">\n",
    "  <p style=\"font-weight:bold; color:#0066cc; margin-top:0;\">\n",
    "    تحلیل آماری و توصیفی توزیع قد و تجربه (دو فصل آخر)\n",
    "  </p>\n",
    "</div>\n",
    "\n",
    "<div style=\"font-family:Tahoma, sans-serif; direction:rtl; line-height:1.8; font-size:17px; text-align:justify; padding:12px; border:1px solid #ddd; border-radius:8px; box-sizing:border-box; max-width:100%; margin:0 auto; margin-top:15px;\">\n",
    "  <p style=\"font-weight:bold; color:#0066cc; margin-top:0;\">\n",
    "    تحلیل قد\n",
    "  </p>\n",
    "  <p>\n",
    "    <b>توزیع قد (هیستوگرام):</b> تیم‌های قهرمان اوج توزیع قد رو بین ۱۹۵ تا ۲۱۰ سانتی‌متر دارن، با تمرکز روی قدهای بلندتر (بیشتر نزدیک ۲۰۰ سانتی‌متر)، که نشون‌دهنده حضور بازیکن‌های بلندقد مثل سنترها و فورواردهاست. \n",
    "    ۱۵ بازیکن برتر اوج توزیع رو نزدیک ۱۸۵ تا ۱۹۰ سانتی‌متر نشون می‌دن، که حضور گاردها و فورواردهای کوتاه‌قد رو تأیید می‌کنه. \n",
    "    <br><b>نتیجه:</b> تیم‌های قهرمان تنوع بیشتری تو قد دارن و به سمت قدهای بلندتر متمایلن، در حالی که ۱۵ بازیکن برتر بیشتر تو محدوده قدهای متوسط جمع شدن.\n",
    "  </p>\n",
    "  <p>\n",
    "    <b>باکس‌پلات:</b> میانه قد تیم‌های قهرمان (حدود ۲۰۱ سانتی‌متر) بالاتر از ۱۵ بازیکن برتر (حدود ۱۹۰ سانتی‌متر) هست. چارک سوم قهرمان‌ها (حدود ۲۰۶ سانتی‌متر) بیشتر از چارک سوم برترها (حدود ۲۰۸.۵ سانتی‌متر) هست، و اوت‌لایِرهایی مثل ۲۱۸ سانتی‌متر تو هر دو گروه دیده می‌شه. \n",
    "    <br><b>نتیجه:</b> تیم‌های قهرمان قد بلندتر و یکنواخت‌تری دارن، در حالی که ۱۵ بازیکن برتر پراکندگی بیشتری تو قد نشون می‌دن، که می‌تونه به نقش‌های تخصصی‌تر (مثل شوت‌زن‌ها) ربط داشته باشه.\n",
    "  </p>\n",
    "</div>\n",
    "\n",
    "<div style=\"font-family:Tahoma, sans-serif; direction:rtl; line-height:1.8; font-size:17px; text-align:justify; padding:12px; border:1px solid #ddd; border-radius:8px; box-sizing:border-box; max-width:100%; margin:0 auto; margin-top:15px;\">\n",
    "  <p style=\"font-weight:bold; color:#0066cc; margin-top:0;\">\n",
    "    تحلیل تجربه\n",
    "  </p>\n",
    "  <p>\n",
    "    <b>توزیع تجربه (هیستوگرام):</b> تیم‌های قهرمان اوج توزیع رو بین ۲ تا ۱۰ سال تجربه دارن، با تمرکز روی بازیکن‌های کم‌تجربه‌تر که نشون‌دهنده استفاده از نیروی جوان و پویاست. \n",
    "    ۱۵ بازیکن برتر اوج توزیع رو بین ۸ تا ۱۶ سال تجربه نشون می‌دن، که حضور ستاره‌های باتجربه و حرفه‌ای رو تأیید می‌کنه. \n",
    "    <br><b>نتیجه:</b> تیم‌های قهرمان از ترکیب جوان‌تر و کم‌تجربه‌تر استفاده می‌کنن، در حالی که ۱۵ بازیکن برتر به تجربه بالا و مهارت‌های انفرادی تکیه دارن.\n",
    "  </p>\n",
    "  <p>\n",
    "    <b>باکس‌پلات:</b> میانه تجربه تیم‌های قهرمان (حدود ۶ سال) کمتر از ۱۵ بازیکن برتر (حدود ۱۳ سال) هست. چارک سوم قهرمان‌ها (حدود ۹ سال) خیلی کمتر از چارک سوم برترها (حدود ۱۶.۵ سال) هست، و اوت‌لایِرهایی مثل ۱۸ سال (مثلاً Al Horford اگه تو داده‌ها باشه) تو قهرمان‌ها دیده می‌شه. \n",
    "    <br><b>نتیجه:</b> تجربه تو تیم‌های قهرمان متمرکزه و کمتره، ولی ۱۵ بازیکن برتر به بازیکن‌های با سابقه و حرفه‌ای وابسته‌ان.\n",
    "  </p>\n",
    "</div>\n",
    "\n",
    "<div style=\"font-family:Tahoma, sans-serif; direction:rtl; line-height:1.8; font-size:17px; text-align:justify; padding:12px; border:1px solid #ddd; border-radius:8px; box-sizing:border-box; max-width:100%; margin:0 auto; margin-top:15px;\">\n",
    "  <p style=\"font-weight:bold; color:#0066cc; margin-top:0;\">\n",
    "    نتیجه‌گیری کلی\n",
    "  </p>\n",
    "  <p>\n",
    "    <b>قد:</b> تیم‌های قهرمان با میانگین قد حدود ۲۰۰.۴۳ سانتی‌متر و میانه ۲۰۱ سانتی‌متر، نسبت به ۱۵ بازیکن برتر (میانگین ۱۹۷.۳۳ سانتی‌متر، میانه ۱۹۰ سانتی‌متر) قد بلندتری دارن. \n",
    "    این نشون می‌ده قد تو موفقیت تیمی (مثل رباند، دفاع، و حضور تو زمین) نقش کلیدی داره و تیم‌های قهرمان از این مزیت فیزیکی بهره می‌برن.\n",
    "  </p>\n",
    "  <p>\n",
    "    <b>تجربه:</b> ۱۵ بازیکن برتر با میانگین ۱۲.۶ سال و میانه ۱۳ سال تجربه، نسبت به قهرمان‌ها (میانگین ۷.۴۸ سال، میانه ۶ سال) تجربه بیشتری دارن. \n",
    "    این تأیید می‌کنه که امتیازدهی بالا و رتبه‌بندی برتر به بازیکن‌های با سابقه و مهارت انفرادی بستگی داره.\n",
    "  </p>\n",
    "  <p>\n",
    "    <b>تضاد و تعادل:</b> تیم‌های قهرمان با ترکیب قد بلند و تجربه متوسط، انعطاف‌پذیری تیمی و تعادل بین جوانی و فیزیک رو نشون می‌دن. \n",
    "    در مقابل، ۱۵ بازیکن برتر روی تجربه بالا و مهارت‌های انفرادی تمرکز دارن، که برای عملکرد انفرادی عالیه ولی لزوماً برای موفقیت تیمی کافی نیست.\n",
    "  </p>\n",
    "</div>"
   ]
  }
 ],
 "metadata": {
  "kernelspec": {
   "display_name": "Python 3",
   "language": "python",
   "name": "python3"
  },
  "language_info": {
   "codemirror_mode": {
    "name": "ipython",
    "version": 3
   },
   "file_extension": ".py",
   "mimetype": "text/x-python",
   "name": "python",
   "nbconvert_exporter": "python",
   "pygments_lexer": "ipython3",
   "version": "3.11.9"
  }
 },
 "nbformat": 4,
 "nbformat_minor": 5
}
